{
 "cells": [
  {
   "cell_type": "markdown",
   "metadata": {
    "id": "YjFvy5H2WMGM",
    "nbgrader": {
     "grade": false,
     "grade_id": "cell-cd5c4f4f4f41858d",
     "locked": true,
     "schema_version": 3,
     "solution": false
    }
   },
   "source": [
    "# Data Analysis - Celebrity Deaths in 2016\n",
    "\n",
    "Source: [Wikipedia - Deaths in 2016](https://en.wikipedia.org/wiki/Deaths_in_2016)\n",
    "\n",
    "#### Structure of dataset:\n",
    "- File: \"celebrity_deaths_2016.xlsx\"\n",
    "- Contains 2 sheets:\n",
    " - \"celeb_death\": contains records of deaths of famous humans and non-humans\n",
    " - \"cause_of_death\": contains the causes of the deaths (you'll need to merge it with the \"celeb_death\" sheet)\n",
    "\n",
    "#### Other information about the dataset:\n",
    "- The cause of death was not reported for all individuals\n",
    "- The dataset might include deaths that took place in other years (you'll need to ignore these records)\n",
    "- The dataset might contain duplicate records (you'll need to remove them)\n",
    "\n",
    "#### The goals of the exercise:\n",
    "- Load, merge, and clean the data\n",
    "- Explore the data and answer some simple questions\n",
    "- Run some basic analysis\n",
    "- Visualize your results"
   ]
  },
  {
   "cell_type": "code",
   "execution_count": null,
   "metadata": {
    "id": "InzN8p_LWMGQ",
    "nbgrader": {
     "grade": true,
     "grade_id": "init_user",
     "locked": true,
     "points": 0,
     "schema_version": 3,
     "solution": false
    }
   },
   "outputs": [],
   "source": [
    "\"\"\"\n",
    "We're providing most of the import statements you need for the entire exercise\n",
    "\"\"\"\n",
    "\n",
    "import pandas as pd\n",
    "import matplotlib.pyplot as plt\n",
    "import warnings\n",
    "warnings.filterwarnings('ignore') # disables warning messages\n",
    "\n",
    "%matplotlib inline"
   ]
  },
  {
   "cell_type": "markdown",
   "metadata": {
    "id": "8Oa9OjUUWMGR",
    "nbgrader": {
     "grade": false,
     "grade_id": "cell-35ee6fbac5f2e8e1",
     "locked": true,
     "schema_version": 3,
     "solution": false
    }
   },
   "source": [
    "### Load, merge, and clean the data"
   ]
  },
  {
   "cell_type": "code",
   "execution_count": null,
   "metadata": {
    "id": "Iq2yG4QPWMGR",
    "nbgrader": {
     "grade": false,
     "grade_id": "q1",
     "locked": false,
     "schema_version": 3,
     "solution": true
    }
   },
   "outputs": [],
   "source": [
    "\"\"\" 1.\n",
    "1. Load the \"celebrity_deaths_2016.xlsx\" data file in the name \"xl\". (This file is saved in the same directory as this notebook.)\n",
    "2. Print the sheet names\n",
    "\n",
    "Hint:\n",
    "Look at the xl.sheet_names property\n",
    "\"\"\"\n",
    "\n",
    "# your code here\n"
   ]
  },
  {
   "cell_type": "code",
   "execution_count": null,
   "metadata": {
    "id": "9JKgAXbEWMGS",
    "nbgrader": {
     "grade": false,
     "grade_id": "q2",
     "locked": false,
     "schema_version": 3,
     "solution": true
    }
   },
   "outputs": [],
   "source": [
    "\"\"\" 2.\n",
    "1. Read the \"celeb_death\" sheet into a dataframe named \"df\"\n",
    "2. Take a look at the top 5 rows\n",
    "\"\"\"\n",
    "\n",
    "# your code here\n"
   ]
  },
  {
   "cell_type": "code",
   "execution_count": null,
   "metadata": {
    "id": "TReH6COnWMGT",
    "nbgrader": {
     "grade": false,
     "grade_id": "q3",
     "locked": false,
     "schema_version": 3,
     "solution": true
    }
   },
   "outputs": [],
   "source": [
    "\"\"\" 3.\n",
    "1. Take a look at the data types stored in each column in df\n",
    "2. Get the shape of df\n",
    "\"\"\"\n",
    "\n",
    "# your code here\n"
   ]
  },
  {
   "cell_type": "code",
   "execution_count": null,
   "metadata": {
    "id": "el3Xk5jVWMGU",
    "nbgrader": {
     "grade": false,
     "grade_id": "q4",
     "locked": false,
     "schema_version": 3,
     "solution": true
    }
   },
   "outputs": [],
   "source": [
    "\"\"\" 4.\n",
    "Drop the duplicates (based on all columns) from df\n",
    "\"\"\"\n",
    "\n",
    "# your code here\n"
   ]
  },
  {
   "cell_type": "code",
   "execution_count": null,
   "metadata": {
    "id": "MdqeY48UWMGV",
    "nbgrader": {
     "grade": false,
     "grade_id": "q5",
     "locked": false,
     "schema_version": 3,
     "solution": true
    }
   },
   "outputs": [],
   "source": [
    "\"\"\" 5.\n",
    "1. Read the \"cause_of_death\" sheet into a DataFrame named \"cause_of_death\"\n",
    "2. Take a look at the top 5 rows\n",
    "\"\"\"\n",
    "\n",
    "# your code here\n"
   ]
  },
  {
   "cell_type": "code",
   "execution_count": null,
   "metadata": {
    "id": "niCbeqxFWMGW",
    "nbgrader": {
     "grade": false,
     "grade_id": "q6",
     "locked": false,
     "schema_version": 3,
     "solution": true
    }
   },
   "outputs": [],
   "source": [
    "\"\"\" 6.\n",
    "Drop the duplicates (based on the \"cause_id\" column) from the cause_of_death DataFrame\n",
    "\n",
    "Hint: There is a single DataFrame method that does this\n",
    "Use the \"subset\" argument to specify the \"cause_id\" column\n",
    "\n",
    "Reference: https://pandas.pydata.org/pandas-docs/stable/reference/frame.html\n",
    "\"\"\"\n",
    "\n",
    "# your code here\n"
   ]
  },
  {
   "cell_type": "code",
   "execution_count": null,
   "metadata": {
    "id": "kUlkBes9WMGW",
    "nbgrader": {
     "grade": false,
     "grade_id": "q7",
     "locked": false,
     "schema_version": 3,
     "solution": true
    }
   },
   "outputs": [],
   "source": [
    "\"\"\" 7.\n",
    "1. Merge the cause_of_death DataFrame with the df DataFrame and name the new DataFrame as \"df\"\n",
    "2. Take a look at the top 5 rows in df\n",
    "\n",
    "Note: There are records in df (left DataFrame) that do not have a matching record in cause_of_death (right DataFrame)\n",
    "We want to see ALL records in df despite the missing matches in cause_of_death, so you DON'T want to use an \"inner join\"\n",
    "\"\"\"\n",
    "\n",
    "# your code here\n"
   ]
  },
  {
   "cell_type": "markdown",
   "metadata": {
    "id": "kRmqqK2yWMGW",
    "nbgrader": {
     "grade": false,
     "grade_id": "cell-a76eee5c31152d7e",
     "locked": true,
     "schema_version": 3,
     "solution": false
    }
   },
   "source": [
    "### Querying data\n",
    "\n",
    "For the following questions, all the operations are on the Dataframe df."
   ]
  },
  {
   "cell_type": "code",
   "execution_count": null,
   "metadata": {
    "id": "Mkhg3GYGWMGX",
    "nbgrader": {
     "grade": false,
     "grade_id": "q8",
     "locked": false,
     "schema_version": 3,
     "solution": true
    }
   },
   "outputs": [],
   "source": [
    "\"\"\" 8.\n",
    "We'll be doing some calculations with the age column, but it was loaded from the data file as dtype \"object\"\n",
    "So first, we need to cast DataFrame df to a numeric value\n",
    "\"\"\"\n",
    "\n",
    "# your code here\n"
   ]
  },
  {
   "cell_type": "code",
   "execution_count": null,
   "metadata": {
    "id": "huBWjkMWWMGX",
    "nbgrader": {
     "grade": false,
     "grade_id": "q9",
     "locked": false,
     "schema_version": 3,
     "solution": true
    }
   },
   "outputs": [],
   "source": [
    "\"\"\" 9.\n",
    "What was the average age of death? Store this value in a variable called 'avg_age', then print it.\n",
    "\"\"\"\n",
    "\n",
    "# your code here\n"
   ]
  },
  {
   "cell_type": "code",
   "execution_count": null,
   "metadata": {
    "id": "LaP4tp-nWMGX",
    "nbgrader": {
     "grade": false,
     "grade_id": "q10",
     "locked": false,
     "schema_version": 3,
     "solution": true
    }
   },
   "outputs": [],
   "source": [
    "\"\"\" 10.\n",
    "How many people died after the age of 70?\n",
    "-- Store the result count in a variable named \"count\" and print it\n",
    "\"\"\"\n",
    "\n",
    "# your code here\n"
   ]
  },
  {
   "cell_type": "code",
   "execution_count": null,
   "metadata": {
    "id": "nVEM2Bz6WMGY",
    "nbgrader": {
     "grade": false,
     "grade_id": "q11",
     "locked": false,
     "schema_version": 3,
     "solution": true
    }
   },
   "outputs": [],
   "source": [
    "\"\"\" 11.\n",
    "Who died the youngest and what was the cause of death?\n",
    "-- Store the name in a variable named \"youngest_name\" and print it\n",
    "-- Store the cause in a variable named \"youngest_cause\" and print it\n",
    "\n",
    "Hint: Get the min age and find the record that has that value\n",
    "\"\"\"\n",
    "\n",
    "# your code here\n"
   ]
  },
  {
   "cell_type": "code",
   "execution_count": null,
   "metadata": {
    "id": "SFA7_yH2WMGY",
    "nbgrader": {
     "grade": false,
     "grade_id": "q12",
     "locked": false,
     "schema_version": 3,
     "solution": true
    }
   },
   "outputs": [],
   "source": [
    "\"\"\" 12.\n",
    "We'll be running some queries based on the \"bio\" column,\n",
    "but it was loaded from the data file as an object.  So first, cast this column to a string.\n",
    "\"\"\"\n",
    "\n",
    "# your code here\n"
   ]
  },
  {
   "cell_type": "code",
   "execution_count": null,
   "metadata": {
    "id": "kPfD7dUMWMGY",
    "nbgrader": {
     "grade": false,
     "grade_id": "q13",
     "locked": false,
     "schema_version": 3,
     "solution": true
    }
   },
   "outputs": [],
   "source": [
    "\"\"\" 13.\n",
    "How many American celebrities died?\n",
    "-- Store the result count in a variable named \"count_american\" and print it\n",
    "\n",
    "Hint: Search the bio for \"American\"\n",
    "\"\"\"\n",
    "\n",
    "# your code here\n"
   ]
  },
  {
   "cell_type": "code",
   "execution_count": null,
   "metadata": {
    "id": "QuxJ-baWWMGY",
    "nbgrader": {
     "grade": false,
     "grade_id": "q14",
     "locked": false,
     "schema_version": 3,
     "solution": true
    }
   },
   "outputs": [],
   "source": [
    "\"\"\" 14.\n",
    "What was one known cause of death for celebrities who died at age 50?\n",
    "-- Name the result as \"rand_cause\"\n",
    "-- Print the result using \"print(\"Age 50. Cause of Death:\", rand_cause)\"\n",
    "\n",
    "Hint:\n",
    "Get all the celebrity death records for celebrities who died at 50\n",
    "Ignore the ones where the cause of death is unknown, or NaN\n",
    "import random and randomly select one of the death records\n",
    "Extract the cause of death and store in a variable \"rand_cause\"\n",
    "\"\"\"\n",
    "\n",
    "#############################################################################################\n",
    "### DO NOT MODIFY THIS! WE NEED TO SEED THE RANDOM VALUE TO ACCURATELY TEST YOUR SOLUTION ###\n",
    "import random\n",
    "random.seed(0)\n",
    "#############################################################################################\n",
    "\n",
    "# your code here\n",
    "\n"
   ]
  },
  {
   "cell_type": "code",
   "execution_count": null,
   "metadata": {
    "id": "JWY-kSoLWMGZ",
    "nbgrader": {
     "grade": false,
     "grade_id": "q15",
     "locked": false,
     "schema_version": 3,
     "solution": true
    },
    "scrolled": true
   },
   "outputs": [],
   "source": [
    "\"\"\" 15.\n",
    "What was the mean age for each cause of death?\n",
    "\n",
    "Hint: import numpy and group by 'cause of death', then get the mean age and store the\n",
    "resulting DataFrame in a variable named 'df_grouped_cause', then print it\n",
    "\"\"\"\n",
    "# your code here\n"
   ]
  },
  {
   "cell_type": "markdown",
   "metadata": {
    "id": "9u4GfXaLWMGZ",
    "nbgrader": {
     "grade": false,
     "grade_id": "cell-0732ef50d65200e7",
     "locked": true,
     "schema_version": 3,
     "solution": false
    }
   },
   "source": [
    "### Count the number of people who died in each month of 2016\n",
    "1. Create new columns that shows which month and year each person died in\n",
    "2. Group all the entries based on the month they appeared in"
   ]
  },
  {
   "cell_type": "code",
   "execution_count": null,
   "metadata": {
    "id": "uSStH855WMGZ",
    "nbgrader": {
     "grade": false,
     "grade_id": "q16",
     "locked": false,
     "schema_version": 3,
     "solution": true
    },
    "scrolled": true
   },
   "outputs": [],
   "source": [
    "\"\"\" 16.\n",
    "Make a new column in the DataFrame df with the numeric month of death\n",
    "\n",
    "Hint:\n",
    "Use the apply() method to run a function against the \"date of death\" column,\n",
    "and return the numeric month (get the value by using \".month\")\n",
    "\"\"\"\n",
    "\n",
    "def get_month(date):\n",
    "    # your code here\n"
   ]
  },
  {
   "cell_type": "code",
   "execution_count": null,
   "metadata": {
    "id": "_xJa8DQqWMGZ",
    "nbgrader": {
     "grade": false,
     "grade_id": "q17",
     "locked": false,
     "schema_version": 3,
     "solution": true
    }
   },
   "outputs": [],
   "source": [
    "\"\"\" 17.\n",
    "Make a new column in the DataFrame df with the year of death\n",
    "\n",
    "Hint: Apply a function to get the year from the \"date of death\" column\n",
    "\"\"\"\n",
    "\n",
    "def get_year(date):\n",
    "    # your code here\n"
   ]
  },
  {
   "cell_type": "code",
   "execution_count": null,
   "metadata": {
    "id": "G0RMEZdpWMGZ",
    "nbgrader": {
     "grade": false,
     "grade_id": "q18",
     "locked": false,
     "schema_version": 3,
     "solution": true
    }
   },
   "outputs": [],
   "source": [
    "\"\"\" 18.\n",
    "There could be a small number of deaths that didn't take place in 2016.  Just in case,\n",
    "filter out the deaths that didn't take place in 2016.\n",
    "-- Name the new DataFrame as \"df_2016\"\n",
    "\"\"\"\n",
    "\n",
    "# your code here\n"
   ]
  },
  {
   "cell_type": "code",
   "execution_count": null,
   "metadata": {
    "id": "E9-Du4rWWMGZ",
    "nbgrader": {
     "grade": false,
     "grade_id": "q19",
     "locked": false,
     "schema_version": 3,
     "solution": true
    }
   },
   "outputs": [],
   "source": [
    "\"\"\" 19.\n",
    "Using a pivot table, obtain a list that contains the number of people that died in each month\n",
    "-- Use the new DataFrame \"df_2016\"\n",
    "-- Name the result as \"df_per_month\"\n",
    "\"\"\"\n",
    "\n",
    "# your code here\n"
   ]
  },
  {
   "cell_type": "markdown",
   "metadata": {
    "id": "hV3NGlwzWMGa",
    "nbgrader": {
     "grade": false,
     "grade_id": "cell-afc6e10559ca39ce",
     "locked": true,
     "schema_version": 3,
     "solution": false
    }
   },
   "source": [
    "### Data Visualization"
   ]
  },
  {
   "cell_type": "code",
   "execution_count": null,
   "metadata": {
    "id": "WZQp_NTTWMGa",
    "nbgrader": {
     "grade": false,
     "grade_id": "q20",
     "locked": false,
     "schema_version": 3,
     "solution": true
    },
    "scrolled": true
   },
   "outputs": [],
   "source": [
    "\"\"\" 20.\n",
    "Visualize the number of deaths per month as a bar chart\n",
    "\n",
    "Hint: A DataFrame has a simple .plot() method you can use.\n",
    "\n",
    "The x axis should show the individual number of the month and the y axis should show the death counts\n",
    "Don't forget to add a title and labels for the x and y axes\n",
    "\"\"\"\n",
    "\n",
    "# your code here\n",
    "\n",
    "\n",
    "\n",
    "###########################\n",
    "### DO NOT MODIFY THIS! ###\n",
    "plt.show()\n",
    "###########################"
   ]
  },
  {
   "cell_type": "markdown",
   "metadata": {
    "id": "Ol5-15gCWMGa",
    "nbgrader": {
     "grade": false,
     "grade_id": "cell-534be1dfb9069a73",
     "locked": true,
     "schema_version": 3,
     "solution": false
    }
   },
   "source": [
    "### Make a bar chart that plots the number of deaths per nationality\n",
    "1. Create a new column that identifies the nationality of each celebrity, extracting the first word from the bio\n",
    "2. Make a bar chart that plots the number of deaths per nationality"
   ]
  },
  {
   "cell_type": "code",
   "execution_count": null,
   "metadata": {
    "id": "fcZlint0WMGa",
    "nbgrader": {
     "grade": false,
     "grade_id": "q21",
     "locked": false,
     "schema_version": 3,
     "solution": true
    }
   },
   "outputs": [],
   "source": [
    "\"\"\" 21.\n",
    "Create a new column in the DataFrame df that identifies the nationality of each celebrity,\n",
    "extracting the first word from the bio\n",
    "\n",
    "Hint:\n",
    "To get the nationality from the bio, use the method split() on the column \"bio\"\n",
    "and use the first element in the split result as the nationality.\n",
    "\n",
    "For simplicity purposes, don't worry about nationalities containing more than 1 word.  For example,\n",
    "when getting the nationality from \"bio\", it's OK to get \"New\" for New Zealand or \"Costa\" for Costa Rican.\n",
    "\"\"\"\n",
    "\n",
    "def get_nationality(bio):\n",
    "    # your code here\n"
   ]
  },
  {
   "cell_type": "code",
   "execution_count": null,
   "metadata": {
    "id": "G6iO1OsKWMGa",
    "nbgrader": {
     "grade": false,
     "grade_id": "q22",
     "locked": false,
     "schema_version": 3,
     "solution": true
    }
   },
   "outputs": [],
   "source": [
    "\"\"\" 22.\n",
    "Make a bar chart that plots the number of deaths per nationality\n",
    "Only include nationalities with more than 50 deaths\n",
    "-- Name the resulting Series as \"unlucky_countries\"\n",
    "Hint(s):\n",
    "Get the count of unique values in the 'nationality' column using the value_counts() method.\n",
    "Filter the resulting Series to only include those nationalities with a count of more than 50.\n",
    "Plot the final Series.  Note, a Series has a simple .plot() method you can use.\n",
    "The x axis should show the individual nationalities and the y axis should show the death counts\n",
    "Don't forget to add a title and labels for the x and y axis\n",
    "\"\"\"\n",
    "\n",
    "# your code here\n",
    "\n",
    "\n",
    "\n",
    "\n",
    "###########################\n",
    "### DO NOT MODIFY THIS! ###\n",
    "plt.show()\n",
    "###########################"
   ]
  },
  {
   "cell_type": "code",
   "execution_count": null,
   "metadata": {
    "id": "rdZz7zUBWMGa"
   },
   "outputs": [],
   "source": []
  }
 ],
 "metadata": {
  "anaconda-cloud": {},
  "celltoolbar": "Create Assignment",
  "colab": {
   "provenance": []
  },
  "kernelspec": {
   "display_name": "Python 3 (ipykernel)",
   "language": "python",
   "name": "python3"
  },
  "language_info": {
   "codemirror_mode": {
    "name": "ipython",
    "version": 3
   },
   "file_extension": ".py",
   "mimetype": "text/x-python",
   "name": "python",
   "nbconvert_exporter": "python",
   "pygments_lexer": "ipython3",
   "version": "3.11.5"
  }
 },
 "nbformat": 4,
 "nbformat_minor": 1
}
