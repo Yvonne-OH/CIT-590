{
 "cells": [
  {
   "cell_type": "markdown",
   "metadata": {
    "id": "YjFvy5H2WMGM",
    "nbgrader": {
     "grade": false,
     "grade_id": "cell-cd5c4f4f4f41858d",
     "locked": true,
     "schema_version": 3,
     "solution": false
    }
   },
   "source": [
    "# Data Analysis - Celebrity Deaths in 2016\n",
    "\n",
    "Source: [Wikipedia - Deaths in 2016](https://en.wikipedia.org/wiki/Deaths_in_2016)\n",
    "\n",
    "#### Structure of dataset:\n",
    "- File: \"celebrity_deaths_2016.xlsx\"\n",
    "- Contains 2 sheets:\n",
    " - \"celeb_death\": contains records of deaths of famous humans and non-humans\n",
    " - \"cause_of_death\": contains the causes of the deaths (you'll need to merge it with the \"celeb_death\" sheet)\n",
    "\n",
    "#### Other information about the dataset:\n",
    "- The cause of death was not reported for all individuals\n",
    "- The dataset might include deaths that took place in other years (you'll need to ignore these records)\n",
    "- The dataset might contain duplicate records (you'll need to remove them)\n",
    "\n",
    "#### The goals of the exercise:\n",
    "- Load, merge, and clean the data\n",
    "- Explore the data and answer some simple questions\n",
    "- Run some basic analysis\n",
    "- Visualize your results"
   ]
  },
  {
   "cell_type": "code",
   "execution_count": 3,
   "metadata": {
    "id": "InzN8p_LWMGQ",
    "nbgrader": {
     "grade": true,
     "grade_id": "init_user",
     "locked": true,
     "points": 0,
     "schema_version": 3,
     "solution": false
    }
   },
   "outputs": [],
   "source": [
    "\"\"\"\n",
    "We're providing most of the import statements you need for the entire exercise\n",
    "\"\"\"\n",
    "\n",
    "import pandas as pd\n",
    "import matplotlib.pyplot as plt\n",
    "import warnings\n",
    "warnings.filterwarnings('ignore') # disables warning messages\n",
    "\n",
    "%matplotlib inline"
   ]
  },
  {
   "cell_type": "markdown",
   "metadata": {
    "id": "8Oa9OjUUWMGR",
    "nbgrader": {
     "grade": false,
     "grade_id": "cell-35ee6fbac5f2e8e1",
     "locked": true,
     "schema_version": 3,
     "solution": false
    }
   },
   "source": [
    "### Load, merge, and clean the data"
   ]
  },
  {
   "cell_type": "code",
   "execution_count": 10,
   "metadata": {
    "id": "Iq2yG4QPWMGR",
    "nbgrader": {
     "grade": false,
     "grade_id": "q1",
     "locked": false,
     "schema_version": 3,
     "solution": true
    }
   },
   "outputs": [
    {
     "data": {
      "text/plain": [
       "['celeb_death', 'cause_id_all', 'cause_of_death']"
      ]
     },
     "execution_count": 10,
     "metadata": {},
     "output_type": "execute_result"
    }
   ],
   "source": [
    "\"\"\" 1.\n",
    "1. Load the \"celebrity_deaths_2016.xlsx\" data file in the name \"xl\". (This file is saved in the same directory as this notebook.)\n",
    "2. Print the sheet names\n",
    "\n",
    "Hint:\n",
    "Look at the xl.sheet_names property\n",
    "\"\"\"\n",
    "\n",
    "# your code here\n",
    "# Load the Excel file\n",
    "xl = pd.ExcelFile('celebrity_deaths_2016.xlsx')\n",
    "\n",
    "# Print the sheet names\n",
    "xl.sheet_names\n"
   ]
  },
  {
   "cell_type": "code",
   "execution_count": 11,
   "metadata": {
    "id": "9JKgAXbEWMGS",
    "nbgrader": {
     "grade": false,
     "grade_id": "q2",
     "locked": false,
     "schema_version": 3,
     "solution": true
    }
   },
   "outputs": [
    {
     "data": {
      "text/html": [
       "<div>\n",
       "<style scoped>\n",
       "    .dataframe tbody tr th:only-of-type {\n",
       "        vertical-align: middle;\n",
       "    }\n",
       "\n",
       "    .dataframe tbody tr th {\n",
       "        vertical-align: top;\n",
       "    }\n",
       "\n",
       "    .dataframe thead th {\n",
       "        text-align: right;\n",
       "    }\n",
       "</style>\n",
       "<table border=\"1\" class=\"dataframe\">\n",
       "  <thead>\n",
       "    <tr style=\"text-align: right;\">\n",
       "      <th></th>\n",
       "      <th>date of death</th>\n",
       "      <th>name</th>\n",
       "      <th>age</th>\n",
       "      <th>bio</th>\n",
       "      <th>cause_id</th>\n",
       "    </tr>\n",
       "  </thead>\n",
       "  <tbody>\n",
       "    <tr>\n",
       "      <th>0</th>\n",
       "      <td>2016-01-01</td>\n",
       "      <td>Tony Lane</td>\n",
       "      <td>71</td>\n",
       "      <td>American art director (Rolling Stone)</td>\n",
       "      <td>8915.0</td>\n",
       "    </tr>\n",
       "    <tr>\n",
       "      <th>1</th>\n",
       "      <td>2016-01-01</td>\n",
       "      <td>Gilbert Kaplan</td>\n",
       "      <td>74</td>\n",
       "      <td>American conductor and businessman</td>\n",
       "      <td>2860.0</td>\n",
       "    </tr>\n",
       "    <tr>\n",
       "      <th>2</th>\n",
       "      <td>2016-01-01</td>\n",
       "      <td>Brian Johns</td>\n",
       "      <td>79</td>\n",
       "      <td>Australian company director, managing director...</td>\n",
       "      <td>2860.0</td>\n",
       "    </tr>\n",
       "    <tr>\n",
       "      <th>3</th>\n",
       "      <td>2016-01-01</td>\n",
       "      <td>Natasha Aguilar</td>\n",
       "      <td>45</td>\n",
       "      <td>Costa Rican swimmer, silver and bronze medalis...</td>\n",
       "      <td>33897.0</td>\n",
       "    </tr>\n",
       "    <tr>\n",
       "      <th>4</th>\n",
       "      <td>2016-01-01</td>\n",
       "      <td>Fazu Aliyeva</td>\n",
       "      <td>83</td>\n",
       "      <td>Russian Avar poet and journalist</td>\n",
       "      <td>10648.0</td>\n",
       "    </tr>\n",
       "  </tbody>\n",
       "</table>\n",
       "</div>"
      ],
      "text/plain": [
       "  date of death             name age  \\\n",
       "0    2016-01-01        Tony Lane  71   \n",
       "1    2016-01-01   Gilbert Kaplan  74   \n",
       "2    2016-01-01      Brian Johns  79   \n",
       "3    2016-01-01  Natasha Aguilar  45   \n",
       "4    2016-01-01     Fazu Aliyeva  83   \n",
       "\n",
       "                                                 bio  cause_id  \n",
       "0              American art director (Rolling Stone)    8915.0  \n",
       "1                 American conductor and businessman    2860.0  \n",
       "2  Australian company director, managing director...    2860.0  \n",
       "3  Costa Rican swimmer, silver and bronze medalis...   33897.0  \n",
       "4                   Russian Avar poet and journalist   10648.0  "
      ]
     },
     "execution_count": 11,
     "metadata": {},
     "output_type": "execute_result"
    }
   ],
   "source": [
    "\"\"\" 2.\n",
    "1. Read the \"celeb_death\" sheet into a dataframe named \"df\"\n",
    "2. Take a look at the top 5 rows\n",
    "\"\"\"\n",
    "\n",
    "# your code here\n",
    "df = pd.read_excel(xl, sheet_name='celeb_death')\n",
    "df.head()"
   ]
  },
  {
   "cell_type": "code",
   "execution_count": 12,
   "metadata": {
    "id": "TReH6COnWMGT",
    "nbgrader": {
     "grade": false,
     "grade_id": "q3",
     "locked": false,
     "schema_version": 3,
     "solution": true
    }
   },
   "outputs": [
    {
     "name": "stdout",
     "output_type": "stream",
     "text": [
      "date of death    datetime64[ns]\n",
      "name                     object\n",
      "age                      object\n",
      "bio                      object\n",
      "cause_id                float64\n",
      "dtype: object (6594, 5)\n"
     ]
    }
   ],
   "source": [
    "\"\"\" 3.\n",
    "1. Take a look at the data types stored in each column in df\n",
    "2. Get the shape of df\n",
    "\"\"\"\n",
    "\n",
    "data_types = df.dtypes # your code here\n",
    "shape = df.shape # Get the shape of df\n",
    "print(data_types, shape)\n"
   ]
  },
  {
   "cell_type": "code",
   "execution_count": 13,
   "metadata": {
    "id": "el3Xk5jVWMGU",
    "nbgrader": {
     "grade": false,
     "grade_id": "q4",
     "locked": false,
     "schema_version": 3,
     "solution": true
    }
   },
   "outputs": [],
   "source": [
    "\"\"\" 4.\n",
    "Drop the duplicates (based on all columns) from df\n",
    "\"\"\"\n",
    "\n",
    "# your code here\n",
    "df = df.drop_duplicates()"
   ]
  },
  {
   "cell_type": "code",
   "execution_count": 14,
   "metadata": {
    "id": "MdqeY48UWMGV",
    "nbgrader": {
     "grade": false,
     "grade_id": "q5",
     "locked": false,
     "schema_version": 3,
     "solution": true
    }
   },
   "outputs": [
    {
     "data": {
      "text/html": [
       "<div>\n",
       "<style scoped>\n",
       "    .dataframe tbody tr th:only-of-type {\n",
       "        vertical-align: middle;\n",
       "    }\n",
       "\n",
       "    .dataframe tbody tr th {\n",
       "        vertical-align: top;\n",
       "    }\n",
       "\n",
       "    .dataframe thead th {\n",
       "        text-align: right;\n",
       "    }\n",
       "</style>\n",
       "<table border=\"1\" class=\"dataframe\">\n",
       "  <thead>\n",
       "    <tr style=\"text-align: right;\">\n",
       "      <th></th>\n",
       "      <th>cause_id</th>\n",
       "      <th>cause of death</th>\n",
       "    </tr>\n",
       "  </thead>\n",
       "  <tbody>\n",
       "    <tr>\n",
       "      <th>0</th>\n",
       "      <td>753</td>\n",
       "      <td>ALS</td>\n",
       "    </tr>\n",
       "    <tr>\n",
       "      <th>1</th>\n",
       "      <td>1039</td>\n",
       "      <td>bomb</td>\n",
       "    </tr>\n",
       "    <tr>\n",
       "      <th>2</th>\n",
       "      <td>1120</td>\n",
       "      <td>shot</td>\n",
       "    </tr>\n",
       "    <tr>\n",
       "      <th>3</th>\n",
       "      <td>1499</td>\n",
       "      <td>fall</td>\n",
       "    </tr>\n",
       "    <tr>\n",
       "      <th>4</th>\n",
       "      <td>1629</td>\n",
       "      <td>shot</td>\n",
       "    </tr>\n",
       "  </tbody>\n",
       "</table>\n",
       "</div>"
      ],
      "text/plain": [
       "   cause_id cause of death\n",
       "0       753            ALS\n",
       "1      1039           bomb\n",
       "2      1120           shot\n",
       "3      1499           fall\n",
       "4      1629           shot"
      ]
     },
     "execution_count": 14,
     "metadata": {},
     "output_type": "execute_result"
    }
   ],
   "source": [
    "\"\"\" 5.\n",
    "1. Read the \"cause_of_death\" sheet into a DataFrame named \"cause_of_death\"\n",
    "2. Take a look at the top 5 rows\n",
    "\"\"\"\n",
    "\n",
    "# your code here\n",
    "cause_of_death = pd.read_excel('celebrity_deaths_2016.xlsx', sheet_name='cause_of_death')\n",
    "\n",
    "# Display the top 5 rows of the DataFrame\n",
    "cause_of_death.head()"
   ]
  },
  {
   "cell_type": "code",
   "execution_count": 15,
   "metadata": {
    "id": "niCbeqxFWMGW",
    "nbgrader": {
     "grade": false,
     "grade_id": "q6",
     "locked": false,
     "schema_version": 3,
     "solution": true
    }
   },
   "outputs": [],
   "source": [
    "\"\"\" 6.\n",
    "Drop the duplicates (based on the \"cause_id\" column) from the cause_of_death DataFrame\n",
    "\n",
    "Hint: There is a single DataFrame method that does this\n",
    "Use the \"subset\" argument to specify the \"cause_id\" column\n",
    "\n",
    "Reference: https://pandas.pydata.org/pandas-docs/stable/reference/frame.html\n",
    "\"\"\"\n",
    "\n",
    "# your code here\n",
    "cause_of_death = cause_of_death.drop_duplicates(subset=['cause_id'])"
   ]
  },
  {
   "cell_type": "code",
   "execution_count": 16,
   "metadata": {
    "id": "kUlkBes9WMGW",
    "nbgrader": {
     "grade": false,
     "grade_id": "q7",
     "locked": false,
     "schema_version": 3,
     "solution": true
    }
   },
   "outputs": [
    {
     "data": {
      "text/html": [
       "<div>\n",
       "<style scoped>\n",
       "    .dataframe tbody tr th:only-of-type {\n",
       "        vertical-align: middle;\n",
       "    }\n",
       "\n",
       "    .dataframe tbody tr th {\n",
       "        vertical-align: top;\n",
       "    }\n",
       "\n",
       "    .dataframe thead th {\n",
       "        text-align: right;\n",
       "    }\n",
       "</style>\n",
       "<table border=\"1\" class=\"dataframe\">\n",
       "  <thead>\n",
       "    <tr style=\"text-align: right;\">\n",
       "      <th></th>\n",
       "      <th>date of death</th>\n",
       "      <th>name</th>\n",
       "      <th>age</th>\n",
       "      <th>bio</th>\n",
       "      <th>cause_id</th>\n",
       "      <th>cause of death</th>\n",
       "    </tr>\n",
       "  </thead>\n",
       "  <tbody>\n",
       "    <tr>\n",
       "      <th>0</th>\n",
       "      <td>2016-01-01</td>\n",
       "      <td>Tony Lane</td>\n",
       "      <td>71</td>\n",
       "      <td>American art director (Rolling Stone)</td>\n",
       "      <td>8915.0</td>\n",
       "      <td>brain cancer</td>\n",
       "    </tr>\n",
       "    <tr>\n",
       "      <th>1</th>\n",
       "      <td>2016-01-01</td>\n",
       "      <td>Gilbert Kaplan</td>\n",
       "      <td>74</td>\n",
       "      <td>American conductor and businessman</td>\n",
       "      <td>2860.0</td>\n",
       "      <td>cancer</td>\n",
       "    </tr>\n",
       "    <tr>\n",
       "      <th>2</th>\n",
       "      <td>2016-01-01</td>\n",
       "      <td>Brian Johns</td>\n",
       "      <td>79</td>\n",
       "      <td>Australian company director, managing director...</td>\n",
       "      <td>2860.0</td>\n",
       "      <td>cancer</td>\n",
       "    </tr>\n",
       "    <tr>\n",
       "      <th>3</th>\n",
       "      <td>2016-01-01</td>\n",
       "      <td>Natasha Aguilar</td>\n",
       "      <td>45</td>\n",
       "      <td>Costa Rican swimmer, silver and bronze medalis...</td>\n",
       "      <td>33897.0</td>\n",
       "      <td>complications of a stroke</td>\n",
       "    </tr>\n",
       "    <tr>\n",
       "      <th>4</th>\n",
       "      <td>2016-01-01</td>\n",
       "      <td>Fazu Aliyeva</td>\n",
       "      <td>83</td>\n",
       "      <td>Russian Avar poet and journalist</td>\n",
       "      <td>10648.0</td>\n",
       "      <td>heart failure</td>\n",
       "    </tr>\n",
       "  </tbody>\n",
       "</table>\n",
       "</div>"
      ],
      "text/plain": [
       "  date of death             name age  \\\n",
       "0    2016-01-01        Tony Lane  71   \n",
       "1    2016-01-01   Gilbert Kaplan  74   \n",
       "2    2016-01-01      Brian Johns  79   \n",
       "3    2016-01-01  Natasha Aguilar  45   \n",
       "4    2016-01-01     Fazu Aliyeva  83   \n",
       "\n",
       "                                                 bio  cause_id  \\\n",
       "0              American art director (Rolling Stone)    8915.0   \n",
       "1                 American conductor and businessman    2860.0   \n",
       "2  Australian company director, managing director...    2860.0   \n",
       "3  Costa Rican swimmer, silver and bronze medalis...   33897.0   \n",
       "4                   Russian Avar poet and journalist   10648.0   \n",
       "\n",
       "               cause of death  \n",
       "0                brain cancer  \n",
       "1                      cancer  \n",
       "2                      cancer  \n",
       "3   complications of a stroke  \n",
       "4               heart failure  "
      ]
     },
     "execution_count": 16,
     "metadata": {},
     "output_type": "execute_result"
    }
   ],
   "source": [
    "\"\"\" 7.\n",
    "1. Merge the cause_of_death DataFrame with the df DataFrame and name the new DataFrame as \"df\"\n",
    "2. Take a look at the top 5 rows in df\n",
    "\n",
    "Note: There are records in df (left DataFrame) that do not have a matching record in cause_of_death (right DataFrame)\n",
    "We want to see ALL records in df despite the missing matches in cause_of_death, so you DON'T want to use an \"inner join\"\n",
    "\"\"\"\n",
    "\n",
    "# your code here\n",
    "df = pd.merge(df, cause_of_death, on='cause_id', how='left')\n",
    "df.head() # Display the top 5 rows of the merged DataFrame\n"
   ]
  },
  {
   "cell_type": "markdown",
   "metadata": {
    "id": "kRmqqK2yWMGW",
    "nbgrader": {
     "grade": false,
     "grade_id": "cell-a76eee5c31152d7e",
     "locked": true,
     "schema_version": 3,
     "solution": false
    }
   },
   "source": [
    "### Querying data\n",
    "\n",
    "For the following questions, all the operations are on the Dataframe df."
   ]
  },
  {
   "cell_type": "code",
   "execution_count": 18,
   "metadata": {
    "id": "Mkhg3GYGWMGX",
    "nbgrader": {
     "grade": false,
     "grade_id": "q8",
     "locked": false,
     "schema_version": 3,
     "solution": true
    }
   },
   "outputs": [],
   "source": [
    "\"\"\" 8.\n",
    "We'll be doing some calculations with the age column, but it was loaded from the data file as dtype \"object\"\n",
    "So first, we need to cast DataFrame df to a numeric value\n",
    "\"\"\"\n",
    "\n",
    "# your code here\n",
    "df['age'] = pd.to_numeric(df['age'], errors='coerce')"
   ]
  },
  {
   "cell_type": "code",
   "execution_count": 19,
   "metadata": {
    "id": "huBWjkMWWMGX",
    "nbgrader": {
     "grade": false,
     "grade_id": "q9",
     "locked": false,
     "schema_version": 3,
     "solution": true
    }
   },
   "outputs": [
    {
     "name": "stdout",
     "output_type": "stream",
     "text": [
      "77.03194103194103\n"
     ]
    }
   ],
   "source": [
    "\"\"\" 9.\n",
    "What was the average age of death? Store this value in a variable called 'avg_age', then print it.\n",
    "\"\"\"\n",
    "\n",
    "# your code here\n",
    "avg_age = df['age'].mean()\n",
    "print(avg_age)"
   ]
  },
  {
   "cell_type": "code",
   "execution_count": 20,
   "metadata": {
    "id": "LaP4tp-nWMGX",
    "nbgrader": {
     "grade": false,
     "grade_id": "q10",
     "locked": false,
     "schema_version": 3,
     "solution": true
    }
   },
   "outputs": [
    {
     "name": "stdout",
     "output_type": "stream",
     "text": [
      "4752\n"
     ]
    }
   ],
   "source": [
    "\"\"\" 10.\n",
    "How many people died after the age of 70?\n",
    "-- Store the result count in a variable named \"count\" and print it\n",
    "\"\"\"\n",
    "\n",
    "# your code here\n",
    "count = len(df[df['age'] > 70])\n",
    "print(count)"
   ]
  },
  {
   "cell_type": "code",
   "execution_count": 23,
   "metadata": {
    "id": "nVEM2Bz6WMGY",
    "nbgrader": {
     "grade": false,
     "grade_id": "q11",
     "locked": false,
     "schema_version": 3,
     "solution": true
    },
    "scrolled": true
   },
   "outputs": [
    {
     "name": "stdout",
     "output_type": "stream",
     "text": [
      "Youngest Name: Vautour\n",
      "Cause of Death:  euthanised\n"
     ]
    }
   ],
   "source": [
    "\"\"\" 11.\n",
    "Who died the youngest and what was the cause of death?\n",
    "-- Store the name in a variable named \"youngest_name\" and print it\n",
    "-- Store the cause in a variable named \"youngest_cause\" and print it\n",
    "\n",
    "Hint: Get the min age and find the record that has that value\n",
    "\"\"\"\n",
    "\n",
    "# your code here\n",
    "min_age = df['age'].min()\n",
    "youngest = df[df['age'] == min_age] # Filter the DataFrame for the row with the minimum age\n",
    "\n",
    "# At least one record that matches, get the name and cause of death\n",
    "# Possible there could be more than one record with the minimum age\n",
    "youngest_name = youngest.iloc[0]['name']  # Replace 'name' with the actual column name for the person's name\n",
    "youngest_cause = youngest.iloc[0]['cause of death']  # Replace 'cause_of_death' with the actual column name for the cause\n",
    "\n",
    "# Print the name and cause of death of the youngest person\n",
    "print(\"Youngest Name:\", youngest_name)\n",
    "print(\"Cause of Death:\", youngest_cause)"
   ]
  },
  {
   "cell_type": "code",
   "execution_count": 24,
   "metadata": {
    "id": "SFA7_yH2WMGY",
    "nbgrader": {
     "grade": false,
     "grade_id": "q12",
     "locked": false,
     "schema_version": 3,
     "solution": true
    }
   },
   "outputs": [],
   "source": [
    "\"\"\" 12.\n",
    "We'll be running some queries based on the \"bio\" column,\n",
    "but it was loaded from the data file as an object.  So first, cast this column to a string.\n",
    "\"\"\"\n",
    "\n",
    "# your code here\n",
    "df['bio'] = df['bio'].astype(str)"
   ]
  },
  {
   "cell_type": "code",
   "execution_count": 25,
   "metadata": {
    "id": "kPfD7dUMWMGY",
    "nbgrader": {
     "grade": false,
     "grade_id": "q13",
     "locked": false,
     "schema_version": 3,
     "solution": true
    }
   },
   "outputs": [
    {
     "name": "stdout",
     "output_type": "stream",
     "text": [
      "2136\n"
     ]
    }
   ],
   "source": [
    "\"\"\" 13.\n",
    "How many American celebrities died?\n",
    "-- Store the result count in a variable named \"count_american\" and print it\n",
    "\n",
    "Hint: Search the bio for \"American\"\n",
    "\"\"\"\n",
    "\n",
    "# your code here\n",
    "# Filter the DataFrame for rows where the \"bio\" column contains \"American\"\n",
    "american_celebrities = df[df['bio'].str.contains(\"American\")]\n",
    "# Count the number of American celebrities\n",
    "count_american = len(american_celebrities)\n",
    "# Print the count\n",
    "print(count_american)\n",
    "\n"
   ]
  },
  {
   "cell_type": "code",
   "execution_count": 30,
   "metadata": {
    "id": "QuxJ-baWWMGY",
    "nbgrader": {
     "grade": false,
     "grade_id": "q14",
     "locked": false,
     "schema_version": 3,
     "solution": true
    }
   },
   "outputs": [
    {
     "name": "stdout",
     "output_type": "stream",
     "text": [
      "Age 50. Cause of Death:  stabbed\n"
     ]
    }
   ],
   "source": [
    "\"\"\" 14.\n",
    "What was one known cause of death for celebrities who died at age 50?\n",
    "-- Name the result as \"rand_cause\"\n",
    "-- Print the result using \"print(\"Age 50. Cause of Death:\", rand_cause)\"\n",
    "\n",
    "Hint:\n",
    "Get all the celebrity death records for celebrities who died at 50\n",
    "Ignore the ones where the cause of death is unknown, or NaN\n",
    "import random and randomly select one of the death records\n",
    "Extract the cause of death and store in a variable \"rand_cause\"\n",
    "\"\"\"\n",
    "\n",
    "#############################################################################################\n",
    "### DO NOT MODIFY THIS! WE NEED TO SEED THE RANDOM VALUE TO ACCURATELY TEST YOUR SOLUTION ###\n",
    "import random\n",
    "random.seed(0)\n",
    "#############################################################################################\n",
    "\n",
    "# your code here\n",
    "# Filter for celebrities who died at age 50 and where cause of death is known (not NaN)\n",
    "celebs_age_50 = df[(df['age'] == 50) & (df['cause of death'].notna())]\n",
    "\n",
    "if not celebs_age_50.empty:\n",
    "    selected_record = celebs_age_50.iloc[random.randint(0, len(celebs_age_50) - 1)]     # Randomly select one record\n",
    "    rand_cause = selected_record['cause of death']     # Extract the cause of death\n",
    "else:\n",
    "    rand_cause = \"No known causes of death for celebrities who died at age 50 in this dataset.\"\n",
    "\n",
    "print(\"Age 50. Cause of Death:\", rand_cause)\n"
   ]
  },
  {
   "cell_type": "code",
   "execution_count": 33,
   "metadata": {
    "id": "JWY-kSoLWMGZ",
    "nbgrader": {
     "grade": false,
     "grade_id": "q15",
     "locked": false,
     "schema_version": 3,
     "solution": true
    },
    "scrolled": true
   },
   "outputs": [
    {
     "name": "stdout",
     "output_type": "stream",
     "text": [
      "                                cause of death        age\n",
      "0                          Alzheimer's disease  79.590909\n",
      "1                                Myself and I)  76.000000\n",
      "2                          Parkinson's disease  80.200000\n",
      "3     Parkinson's disease and multiple myeloma  69.000000\n",
      "4                               Pick's disease  68.000000\n",
      "..                                         ...        ...\n",
      "328                                plane crash  55.500000\n",
      "329             progressive supranuclear palsy  84.000000\n",
      "330                                       shot  56.500000\n",
      "331                                    stabbed  85.000000\n",
      "332                                      tased  48.000000\n",
      "\n",
      "[333 rows x 2 columns]\n"
     ]
    }
   ],
   "source": [
    "\"\"\" 15.\n",
    "What was the mean age for each cause of death?\n",
    "\n",
    "Hint: import numpy and group by 'cause of death', then get the mean age and store the\n",
    "resulting DataFrame in a variable named 'df_grouped_cause', then print it\n",
    "\"\"\"\n",
    "# your code here\n",
    "import numpy as np\n",
    "# Group by 'cause_of_death' and calculate the mean age for each cause\n",
    "df_grouped_cause = df.groupby('cause of death')['age'].mean().reset_index()\n",
    "\n",
    "# Print the resulting DataFrame\n",
    "print(df_grouped_cause)"
   ]
  },
  {
   "cell_type": "markdown",
   "metadata": {
    "id": "9u4GfXaLWMGZ",
    "nbgrader": {
     "grade": false,
     "grade_id": "cell-0732ef50d65200e7",
     "locked": true,
     "schema_version": 3,
     "solution": false
    }
   },
   "source": [
    "### Count the number of people who died in each month of 2016\n",
    "1. Create new columns that shows which month and year each person died in\n",
    "2. Group all the entries based on the month they appeared in"
   ]
  },
  {
   "cell_type": "code",
   "execution_count": 35,
   "metadata": {
    "id": "uSStH855WMGZ",
    "nbgrader": {
     "grade": false,
     "grade_id": "q16",
     "locked": false,
     "schema_version": 3,
     "solution": true
    },
    "scrolled": true
   },
   "outputs": [],
   "source": [
    "\"\"\" 16.\n",
    "Make a new column in the DataFrame df with the numeric month of death\n",
    "\n",
    "Hint:\n",
    "Use the apply() method to run a function against the \"date of death\" column,\n",
    "and return the numeric month (get the value by using \".month\")\n",
    "\"\"\"\n",
    "\n",
    "def get_month(date):\n",
    "    # your code here\n",
    "    # Return the numeric month from the date\n",
    "    return date.month if pd.notnull(date) else None\n",
    "\n",
    "df['date of death'] = pd.to_datetime(df['date of death'], errors='coerce')\n",
    "df['month of death'] = df['date of death'].apply(get_month)\n",
    "\n"
   ]
  },
  {
   "cell_type": "code",
   "execution_count": 36,
   "metadata": {
    "id": "_xJa8DQqWMGZ",
    "nbgrader": {
     "grade": false,
     "grade_id": "q17",
     "locked": false,
     "schema_version": 3,
     "solution": true
    }
   },
   "outputs": [],
   "source": [
    "\"\"\" 17.\n",
    "Make a new column in the DataFrame df with the year of death\n",
    "\n",
    "Hint: Apply a function to get the year from the \"date of death\" column\n",
    "\"\"\"\n",
    "\n",
    "def get_year(date):\n",
    "    # your code here\n",
    "    return date.year if pd.notnull(date) else None\n",
    "\n",
    "df['year of death'] = df['date of death'].apply(get_year)\n"
   ]
  },
  {
   "cell_type": "code",
   "execution_count": 38,
   "metadata": {
    "id": "G0RMEZdpWMGZ",
    "nbgrader": {
     "grade": false,
     "grade_id": "q18",
     "locked": false,
     "schema_version": 3,
     "solution": true
    }
   },
   "outputs": [],
   "source": [
    "\"\"\" 18.\n",
    "There could be a small number of deaths that didn't take place in 2016.  Just in case,\n",
    "filter out the deaths that didn't take place in 2016.\n",
    "-- Name the new DataFrame as \"df_2016\"\n",
    "\"\"\"\n",
    "\n",
    "# your code here\n",
    "df['date of death'] = pd.to_datetime(df['date of death'], errors='coerce')\n",
    "\n",
    "# Apply the get_year function to create a new column with the year of death\n",
    "df['year of death'] = df['date of death'].apply(get_year)\n",
    "\n",
    "# Filter the DataFrame to include only deaths in 2016\n",
    "df_2016 = df[df['year of death'] == 2016]\n"
   ]
  },
  {
   "cell_type": "code",
   "execution_count": 39,
   "metadata": {
    "id": "E9-Du4rWWMGZ",
    "nbgrader": {
     "grade": false,
     "grade_id": "q19",
     "locked": false,
     "schema_version": 3,
     "solution": true
    }
   },
   "outputs": [],
   "source": [
    "\"\"\" 19.\n",
    "Using a pivot table, obtain a list that contains the number of people that died in each month\n",
    "-- Use the new DataFrame \"df_2016\"\n",
    "-- Name the result as \"df_per_month\"\n",
    "\"\"\"\n",
    "\n",
    "# your code here\n",
    "\n",
    "df_per_month = pd.pivot_table(df_2016, index='month of death', values='name', aggfunc='count').reset_index()\n",
    "df_per_month.columns = ['Month', 'Deaths']\n"
   ]
  },
  {
   "cell_type": "markdown",
   "metadata": {
    "id": "hV3NGlwzWMGa",
    "nbgrader": {
     "grade": false,
     "grade_id": "cell-afc6e10559ca39ce",
     "locked": true,
     "schema_version": 3,
     "solution": false
    }
   },
   "source": [
    "### Data Visualization"
   ]
  },
  {
   "cell_type": "code",
   "execution_count": 40,
   "metadata": {
    "id": "WZQp_NTTWMGa",
    "nbgrader": {
     "grade": false,
     "grade_id": "q20",
     "locked": false,
     "schema_version": 3,
     "solution": true
    },
    "scrolled": true
   },
   "outputs": [
    {
     "data": {
      "image/png": "[encoded data removed]",
      "text/plain": [
       "<Figure size 640x480 with 1 Axes>"
      ]
     },
     "metadata": {},
     "output_type": "display_data"
    }
   ],
   "source": [
    "\"\"\" 20.\n",
    "Visualize the number of deaths per month as a bar chart\n",
    "\n",
    "Hint: A DataFrame has a simple .plot() method you can use.\n",
    "\n",
    "The x axis should show the individual number of the month and the y axis should show the death counts\n",
    "Don't forget to add a title and labels for the x and y axes\n",
    "\"\"\"\n",
    "\n",
    "# your code here\n",
    "# Plotting the number of deaths per month\n",
    "df_per_month.plot(kind='bar', x='Month', y='Deaths', color='blue', legend=None)\n",
    "plt.title('Number of Deaths Per Month in 2016')\n",
    "plt.xlabel('Month')\n",
    "plt.ylabel('Number of Deaths')\n",
    "plt.xticks(rotation=0)\n",
    "\n",
    "\n",
    "\n",
    "###########################\n",
    "### DO NOT MODIFY THIS! ###\n",
    "plt.show()\n",
    "###########################"
   ]
  },
  {
   "cell_type": "markdown",
   "metadata": {
    "id": "Ol5-15gCWMGa",
    "nbgrader": {
     "grade": false,
     "grade_id": "cell-534be1dfb9069a73",
     "locked": true,
     "schema_version": 3,
     "solution": false
    }
   },
   "source": [
    "### Make a bar chart that plots the number of deaths per nationality\n",
    "1. Create a new column that identifies the nationality of each celebrity, extracting the first word from the bio\n",
    "2. Make a bar chart that plots the number of deaths per nationality"
   ]
  },
  {
   "cell_type": "code",
   "execution_count": null,
   "metadata": {
    "id": "fcZlint0WMGa",
    "nbgrader": {
     "grade": false,
     "grade_id": "q21",
     "locked": false,
     "schema_version": 3,
     "solution": true
    }
   },
   "outputs": [],
   "source": [
    "\"\"\" 21.\n",
    "Create a new column in the DataFrame df that identifies the nationality of each celebrity,\n",
    "extracting the first word from the bio\n",
    "\n",
    "Hint:\n",
    "To get the nationality from the bio, use the method split() on the column \"bio\"\n",
    "and use the first element in the split result as the nationality.\n",
    "\n",
    "For simplicity purposes, don't worry about nationalities containing more than 1 word.  For example,\n",
    "when getting the nationality from \"bio\", it's OK to get \"New\" for New Zealand or \"Costa\" for Costa Rican.\n",
    "\"\"\"\n",
    "\n",
    "def get_nationality(bio):\n",
    "    # your code here\n"
   ]
  },
  {
   "cell_type": "code",
   "execution_count": null,
   "metadata": {
    "id": "G6iO1OsKWMGa",
    "nbgrader": {
     "grade": false,
     "grade_id": "q22",
     "locked": false,
     "schema_version": 3,
     "solution": true
    }
   },
   "outputs": [],
   "source": [
    "\"\"\" 22.\n",
    "Make a bar chart that plots the number of deaths per nationality\n",
    "Only include nationalities with more than 50 deaths\n",
    "-- Name the resulting Series as \"unlucky_countries\"\n",
    "Hint(s):\n",
    "Get the count of unique values in the 'nationality' column using the value_counts() method.\n",
    "Filter the resulting Series to only include those nationalities with a count of more than 50.\n",
    "Plot the final Series.  Note, a Series has a simple .plot() method you can use.\n",
    "The x axis should show the individual nationalities and the y axis should show the death counts\n",
    "Don't forget to add a title and labels for the x and y axis\n",
    "\"\"\"\n",
    "\n",
    "# your code here\n",
    "\n",
    "\n",
    "\n",
    "\n",
    "###########################\n",
    "### DO NOT MODIFY THIS! ###\n",
    "plt.show()\n",
    "###########################"
   ]
  },
  {
   "cell_type": "code",
   "execution_count": null,
   "metadata": {
    "id": "rdZz7zUBWMGa"
   },
   "outputs": [],
   "source": []
  }
 ],
 "metadata": {
  "anaconda-cloud": {},
  "celltoolbar": "Create Assignment",
  "colab": {
   "provenance": []
  },
  "kernelspec": {
   "display_name": "Python 3 (ipykernel)",
   "language": "python",
   "name": "python3"
  },
  "language_info": {
   "codemirror_mode": {
    "name": "ipython",
    "version": 3
   },
   "file_extension": ".py",
   "mimetype": "text/x-python",
   "name": "python",
   "nbconvert_exporter": "python",
   "pygments_lexer": "ipython3",
   "version": "3.11.5"
  }
 },
 "nbformat": 4,
 "nbformat_minor": 1
}
