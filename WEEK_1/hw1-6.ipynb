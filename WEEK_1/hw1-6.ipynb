{
 "cells": [
  {
   "cell_type": "markdown",
   "metadata": {
    "id": "IkX7wMH9tKe-"
   },
   "source": [
    "## CIT590 HW1 Math Practice"
   ]
  },
  {
   "cell_type": "markdown",
   "metadata": {
    "id": "4cV7jSXHysc4"
   },
   "source": [
    "STUDENT DETAILS - edit this text cell to fill in the fields below : 0.5pts\n",
    "\n",
    "NAME: \\ Zhanqian Wu\n",
    "PENN ID: \\ 52463471\n",
    "STATEMENT OF WORK: \\ This assignment was done 100% by me.\n",
    "\n",
    "Note: Statement of work needs to include information on help and collaboration sought, adhering to the policies drawn for the course and individual assignments.\n"
   ]
  },
  {
   "cell_type": "markdown",
   "metadata": {
    "id": "YvR9nCThtKfA"
   },
   "source": [
    "Print the result of 1.22 multiplied by 49021 : 0.5pts"
   ]
  },
  {
   "cell_type": "code",
   "execution_count": 2,
   "metadata": {
    "id": "RLkJCPUUtKfC"
   },
   "outputs": [
    {
     "name": "stdout",
     "output_type": "stream",
     "text": [
      "59805.619999999995\n"
     ]
    }
   ],
   "source": [
    "print(1.22 * 49021)"
   ]
  },
  {
   "cell_type": "markdown",
   "metadata": {
    "id": "45HjbOmztKfM"
   },
   "source": [
    "Print the result of 214 divided by 6 : 0.5pts"
   ]
  },
  {
   "cell_type": "code",
   "execution_count": 3,
   "metadata": {
    "id": "6qroOwo1tKfO"
   },
   "outputs": [
    {
     "name": "stdout",
     "output_type": "stream",
     "text": [
      "35.666666666666664\n"
     ]
    }
   ],
   "source": [
    "print(214 / 6)"
   ]
  },
  {
   "cell_type": "markdown",
   "metadata": {
    "id": "P3-p8FcNxhCE"
   },
   "source": [
    "Print the result of 214 divided by 6, discarding the fractional result : 0.5pts"
   ]
  },
  {
   "cell_type": "code",
   "execution_count": 4,
   "metadata": {
    "id": "AsEeEoa6xhCE"
   },
   "outputs": [
    {
     "name": "stdout",
     "output_type": "stream",
     "text": [
      "35\n"
     ]
    }
   ],
   "source": [
    "print(214 // 6)"
   ]
  },
  {
   "cell_type": "markdown",
   "metadata": {
    "id": "TrdWdPHotKfU"
   },
   "source": [
    "Print the result of 3 divided by 0.3 : 0.5pts"
   ]
  },
  {
   "cell_type": "code",
   "execution_count": 5,
   "metadata": {
    "id": "E5xDkqEFtKfV"
   },
   "outputs": [
    {
     "name": "stdout",
     "output_type": "stream",
     "text": [
      "10.0\n"
     ]
    }
   ],
   "source": [
    "print( 3 / 0.3)"
   ]
  },
  {
   "cell_type": "markdown",
   "metadata": {
    "id": "IjkbBOc5tKfY"
   },
   "source": [
    "Print the remainder of 214 divided by 6 : 0.5pts"
   ]
  },
  {
   "cell_type": "code",
   "execution_count": 6,
   "metadata": {
    "id": "b0CY0fI0tKfZ"
   },
   "outputs": [
    {
     "name": "stdout",
     "output_type": "stream",
     "text": [
      "4\n"
     ]
    }
   ],
   "source": [
    "print(214 % 6)"
   ]
  },
  {
   "cell_type": "markdown",
   "metadata": {
    "id": "yZF_pq84tKfc"
   },
   "source": [
    "Print the value of 3 raised to the 11th power : 0.5pts"
   ]
  },
  {
   "cell_type": "code",
   "execution_count": 7,
   "metadata": {
    "id": "-mpw5UxWtKfc"
   },
   "outputs": [
    {
     "name": "stdout",
     "output_type": "stream",
     "text": [
      "177147\n"
     ]
    }
   ],
   "source": [
    "print(3 ** 11)"
   ]
  },
  {
   "cell_type": "markdown",
   "metadata": {
    "id": "mWnr8jIKtKff"
   },
   "source": [
    "Print the nearest integer of 3.5 : 0.5pts"
   ]
  },
  {
   "cell_type": "code",
   "execution_count": 1,
   "metadata": {
    "id": "cxxjlbcQtKff"
   },
   "outputs": [
    {
     "name": "stdout",
     "output_type": "stream",
     "text": [
      "4\n"
     ]
    }
   ],
   "source": [
    "print(round(3.5))"
   ]
  },
  {
   "cell_type": "markdown",
   "metadata": {
    "id": "E9lyVlpitKfh"
   },
   "source": [
    "## Data Types Practice"
   ]
  },
  {
   "cell_type": "markdown",
   "metadata": {
    "id": "aH9Gm5UDtKfh"
   },
   "source": [
    "Print the data type of \"False\" : 0.5pts"
   ]
  },
  {
   "cell_type": "code",
   "execution_count": 10,
   "metadata": {
    "id": "QaCm0SXDtKfi"
   },
   "outputs": [
    {
     "name": "stdout",
     "output_type": "stream",
     "text": [
      "<class 'str'>\n"
     ]
    }
   ],
   "source": [
    "print(type(\"False\"))"
   ]
  },
  {
   "cell_type": "markdown",
   "metadata": {
    "id": "aMvjtJkBtKfj"
   },
   "source": [
    "Print the data type of True : 0.5pts"
   ]
  },
  {
   "cell_type": "code",
   "execution_count": 11,
   "metadata": {
    "id": "BhoXvmELtKfk"
   },
   "outputs": [
    {
     "name": "stdout",
     "output_type": "stream",
     "text": [
      "<class 'bool'>\n"
     ]
    }
   ],
   "source": [
    "print(type(True))"
   ]
  },
  {
   "cell_type": "markdown",
   "metadata": {
    "id": "HETSVlmItKfm"
   },
   "source": [
    "Print the data type of the result of 20000 divided by 10 : 0.5pts"
   ]
  },
  {
   "cell_type": "code",
   "execution_count": 12,
   "metadata": {
    "id": "dm2a-Z1FtKfm"
   },
   "outputs": [
    {
     "name": "stdout",
     "output_type": "stream",
     "text": [
      "<class 'float'>\n"
     ]
    }
   ],
   "source": [
    "result = 20000 / 10\n",
    "print(type(result))"
   ]
  },
  {
   "cell_type": "markdown",
   "metadata": {
    "id": "dAqWmiIEtKfo"
   },
   "source": [
    "Cast the value of 6.3 divided by 3.8 to an integer and print it : 0.5pts"
   ]
  },
  {
   "cell_type": "code",
   "execution_count": 13,
   "metadata": {
    "id": "4HZTjNs1tKfo"
   },
   "outputs": [
    {
     "name": "stdout",
     "output_type": "stream",
     "text": [
      "1\n"
     ]
    }
   ],
   "source": [
    "print(int(6.3 / 3.8))"
   ]
  },
  {
   "cell_type": "markdown",
   "metadata": {
    "id": "JY8peDaOtKfq"
   },
   "source": [
    "## String Practice"
   ]
  },
  {
   "cell_type": "markdown",
   "metadata": {
    "id": "nVMKRKmttKfq"
   },
   "source": [
    "Concatenate and print the strings 'I', 'Love', and 'Python'.  Add a single empty space between the strings : 0.5pts"
   ]
  },
  {
   "cell_type": "code",
   "execution_count": 3,
   "metadata": {
    "id": "tpgUAQm0tKfq"
   },
   "outputs": [
    {
     "name": "stdout",
     "output_type": "stream",
     "text": [
      "I Love Python\n",
      "I Love Python\n"
     ]
    }
   ],
   "source": [
    "# .join() https://www.geeksforgeeks.org/python-string-join-method/\n",
    "concatenated_string = ' '.join(['I', 'Love', 'Python'])\n",
    "print(concatenated_string)\n",
    "#or using sep=\" \"\n",
    "print('I', 'Love', 'Python', sep=\" \")"
   ]
  },
  {
   "cell_type": "markdown",
   "metadata": {
    "id": "f3B5AZZvtKfu"
   },
   "source": [
    "Make the following print statement correct:<br />\n",
    "print(\"4 % 2 = \" + (4 % 2)) : 0.5pts"
   ]
  },
  {
   "cell_type": "code",
   "execution_count": 17,
   "metadata": {
    "id": "0j_EsZ0LtKfu"
   },
   "outputs": [
    {
     "name": "stdout",
     "output_type": "stream",
     "text": [
      "4 % 2 = 0\n"
     ]
    }
   ],
   "source": [
    "#can only concatenate str\n",
    "print(\"4 % 2 = \" + str(4 % 2)) "
   ]
  },
  {
   "cell_type": "markdown",
   "metadata": {
    "id": "cD_JuNEgtKfw"
   },
   "source": [
    "Print the following sentences, (including the double quotes):<br />\n",
    "Albert Einstein's best quote is \"I have no special talent. I am only passionately curious.\" : 0.5pts"
   ]
  },
  {
   "cell_type": "code",
   "execution_count": 18,
   "metadata": {
    "id": "L02KzXQ5xhCF"
   },
   "outputs": [
    {
     "name": "stdout",
     "output_type": "stream",
     "text": [
      "Albert Einstein's best quote is \"I have no special talent. I am only passionately curious.\"\n"
     ]
    }
   ],
   "source": [
    "print('Albert Einstein\\'s best quote is \"I have no special talent. I am only passionately curious.\"')"
   ]
  },
  {
   "cell_type": "markdown",
   "metadata": {
    "id": "KqJWLG_7xhCF"
   },
   "source": [
    "Print the following sentences, (including the backslashes and double quotes):<br />\n",
    "In Python strings, the backslash (\\\\) is a special character, also called the \"escape\" character.<br />\n",
    "Prefixing a special character (e.g. single quote) with a backslash (\\\\) turns it into an ordinary character. : 0.5pts"
   ]
  },
  {
   "cell_type": "code",
   "execution_count": 19,
   "metadata": {
    "id": "DCCrcn3pxhCF"
   },
   "outputs": [
    {
     "name": "stdout",
     "output_type": "stream",
     "text": [
      "In Python strings, the backslash (\\) is a special character, also called the \"escape\" character.\n",
      "Prefixing a special character (e.g. single quote) with a backslash (\\) turns it into an ordinary character.\n"
     ]
    }
   ],
   "source": [
    "print('In Python strings, the backslash (\\\\) is a special character, also called the \"escape\" character.\\nPrefixing a special character (e.g. single quote) with a backslash (\\\\) turns it into an ordinary character.')\n"
   ]
  },
  {
   "cell_type": "code",
   "execution_count": null,
   "metadata": {},
   "outputs": [],
   "source": []
  }
 ],
 "metadata": {
  "colab": {
   "provenance": []
  },
  "kernelspec": {
   "display_name": "Python 3 (ipykernel)",
   "language": "python",
   "name": "python3"
  },
  "language_info": {
   "codemirror_mode": {
    "name": "ipython",
    "version": 3
   },
   "file_extension": ".py",
   "mimetype": "text/x-python",
   "name": "python",
   "nbconvert_exporter": "python",
   "pygments_lexer": "ipython3",
   "version": "3.11.5"
  }
 },
 "nbformat": 4,
 "nbformat_minor": 1
}
